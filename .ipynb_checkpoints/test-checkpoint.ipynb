{
 "cells": [
  {
   "cell_type": "code",
   "execution_count": 1,
   "metadata": {},
   "outputs": [
    {
     "name": "stdout",
     "output_type": "stream",
     "text": [
      "         Date        Open        High         Low       Close   Adj Close   \n",
      "0  2019-01-22  243.389999  243.580002  239.970001  241.660004  221.968155  \\\n",
      "1  2019-01-23  242.679993  243.339996  239.580002  242.020004  222.298828   \n",
      "2  2019-01-24  241.899994  242.820007  240.910004  242.259995  222.519272   \n",
      "3  2019-01-25  244.110001  245.110001  243.669998  244.320007  224.411423   \n",
      "4  2019-01-28  242.089996  242.490005  240.630005  242.429993  222.675415   \n",
      "\n",
      "    Volume  \n",
      "0  5786300  \n",
      "1  3076400  \n",
      "2  2197100  \n",
      "3  3677500  \n",
      "4  2407800  \n"
     ]
    }
   ],
   "source": [
    "import pandas as pd\n",
    "\n",
    "file_path = 'VOO.csv'\n",
    "# Use pandas to read the CSV file into a DataFrame\n",
    "df = pd.read_csv(file_path)\n",
    "\n",
    "# Display the first few rows of the DataFrame to check the data\n",
    "print(df.head())"
   ]
  },
  {
   "cell_type": "code",
   "execution_count": 2,
   "metadata": {},
   "outputs": [
    {
     "name": "stdout",
     "output_type": "stream",
     "text": [
      "            Date      Open      High       Low     Close   Adj Close    Volume\n",
      "0     2019-01-22 -1.786201 -1.814580 -1.811104 -1.817205  221.968155  0.563339\n",
      "1     2019-01-23 -1.798497 -1.818728 -1.817874 -1.810971  222.298828 -0.499763\n",
      "2     2019-01-24 -1.812006 -1.827713 -1.794788 -1.806816  222.519272 -0.844715\n",
      "3     2019-01-25 -1.773731 -1.788142 -1.746879 -1.771146  224.411423 -0.263950\n",
      "4     2019-01-28 -1.808715 -1.833415 -1.799648 -1.803872  222.675415 -0.762057\n",
      "...          ...       ...       ...       ...       ...         ...       ...\n",
      "1253  2024-01-12  1.603486  1.576062  1.604290  1.582303  437.989990  0.325800\n",
      "1254  2024-01-16  1.563307  1.544613  1.569746  1.556504  436.500000  0.541567\n",
      "1255  2024-01-17  1.508059  1.484134  1.518887  1.514428  434.070007  0.664671\n",
      "1256  2024-01-18  1.542350  1.551698  1.559679  1.581264  437.929993 -0.007462\n",
      "1257  2024-01-19  1.601582  1.641898  1.631715  1.674075  443.290009  0.189239\n",
      "\n",
      "[1258 rows x 7 columns]\n"
     ]
    }
   ],
   "source": [
    "from sklearn.preprocessing import StandardScaler\n",
    "\n",
    "# Initialize scalers for each column\n",
    "scaler_open = StandardScaler()\n",
    "scaler_volume = StandardScaler()\n",
    "scaler_date = StandardScaler()\n",
    "\n",
    "# Copy df to avoid modifying the original DataFrame\n",
    "df_scaled = df.copy()\n",
    "\n",
    "# Scale each column\n",
    "df_scaled['Open'] = scaler_open.fit_transform(df_scaled[['Open']])\n",
    "df_scaled['High'] = scaler_open.fit_transform(df_scaled[['High']])\n",
    "df_scaled['Low'] = scaler_open.fit_transform(df_scaled[['Low']])\n",
    "df_scaled['Close'] = scaler_open.fit_transform(df_scaled[['Close']])\n",
    "df_scaled['Volume'] = scaler_volume.fit_transform(df_scaled[['Volume']])\n",
    "# df_scaled['Date'] = scaler_date.fit_transform(df_scaled[['Date']].astype(float))\n",
    "\n",
    "print(df_scaled)"
   ]
  },
  {
   "cell_type": "code",
   "execution_count": 3,
   "metadata": {},
   "outputs": [],
   "source": [
    "import pandas as pd\n",
    "import numpy as np\n",
    "\n",
    "def create_features_labels(df, train_period, prediction_period):\n",
    "    feature_columns = ['Open', 'High', 'Low', 'Close', 'Volume']\n",
    "    X = []\n",
    "    Y = []\n",
    "\n",
    "    # Iterate over the DataFrame using a window of 30 days\n",
    "    for start in range(len(df) - train_period - prediction_period):  # -60 to have enough data for both X and Y\n",
    "        end = start + train_period\n",
    "\n",
    "        # Extract the 30-day window for features\n",
    "        window_df = df.iloc[start:end]\n",
    "        features = []\n",
    "\n",
    "        # Add features for each day in the window\n",
    "        for i, row in enumerate(window_df.itertuples()):\n",
    "            day_features = [row.Open, row.High, row.Low, row.Close, row.Volume, -i/train_period]\n",
    "            features.extend(day_features)\n",
    "\n",
    "        X.append(features)\n",
    "\n",
    "        # Calculate the label based on the next 30 days\n",
    "        future_window = df.iloc[end:end+prediction_period]\n",
    "        max_close = future_window['Close'].max()\n",
    "        min_close = future_window['Close'].min()\n",
    "        start_close = window_df['Close'].iloc[-1]\n",
    "\n",
    "        max_pct_change = (max_close - start_close) / start_close\n",
    "        min_pct_change = (min_close - start_close) / start_close\n",
    "\n",
    "        # Determine the label based on your criteria\n",
    "        if max_pct_change > 0.02:\n",
    "            label = 1\n",
    "        else:\n",
    "            label = 0\n",
    "            \n",
    "        # elif max_pct_change > 0.05:\n",
    "        #     label = 4\n",
    "        # elif max_pct_change > 0.03:\n",
    "        #     label = 3\n",
    "        # elif max_pct_change > 0.02:\n",
    "        #     label = 2\n",
    "        # elif max_pct_change > 0.01:\n",
    "        #     label = 1\n",
    "        # elif min_pct_change < -0.10:\n",
    "        #     label = -5\n",
    "        # elif min_pct_change < -0.05:\n",
    "        #     label = -4\n",
    "        # elif min_pct_change < -0.03:\n",
    "        #     label = -3\n",
    "        # elif min_pct_change < -0.02:\n",
    "        #     label = -2\n",
    "        # elif min_pct_change < -0.01:\n",
    "        #     label = -1\n",
    "        # else:\n",
    "        #     label = 0\n",
    "\n",
    "        Y.append(label)\n",
    "\n",
    "    return np.array(X), np.array(Y)\n",
    "\n",
    "# Example usage\n",
    "# df = pd.read_csv('path_to_your_file.csv')\n",
    "X, Y = create_features_labels(df_scaled)\n",
    "\n",
    "# print(X)"
   ]
  },
  {
   "cell_type": "code",
   "execution_count": 8,
   "metadata": {},
   "outputs": [
    {
     "data": {
      "image/png": "[encoded data removed]",
      "text/plain": [
       "<Figure size 640x480 with 1 Axes>"
      ]
     },
     "metadata": {},
     "output_type": "display_data"
    }
   ],
   "source": [
    "import matplotlib.pyplot as plt\n",
    "\n",
    "# Count the occurrences of each label\n",
    "labels, counts = np.unique(Y, return_counts=True)\n",
    "# Convert counts to percentages\n",
    "total_counts = sum(counts)\n",
    "percentages = (counts / total_counts) * 100\n",
    "\n",
    "plt.bar(labels, percentages, tick_label=[\"Not +5%\", \"+5%\"])\n",
    "plt.xlabel('Label')\n",
    "plt.ylabel('Percentage (%)')\n",
    "plt.title('Distribution of Y Labels')\n",
    "plt.show()\n"
   ]
  },
  {
   "cell_type": "code",
   "execution_count": 9,
   "metadata": {},
   "outputs": [
    {
     "ename": "TypeError",
     "evalue": "LogisticRegression.fit() got an unexpected keyword argument 'epochs'",
     "output_type": "error",
     "traceback": [
      "\u001b[0;31m---------------------------------------------------------------------------\u001b[0m",
      "\u001b[0;31mTypeError\u001b[0m                                 Traceback (most recent call last)",
      "\u001b[1;32m/Users/wenlongzhang/Documents/ML/stock/test.ipynb Cell 5\u001b[0m line \u001b[0;36m2\n\u001b[1;32m      <a href='vscode-notebook-cell:/Users/wenlongzhang/Documents/ML/stock/test.ipynb#W4sZmlsZQ%3D%3D?line=0'>1</a>\u001b[0m \u001b[39m# Train the model\u001b[39;00m\n\u001b[0;32m----> <a href='vscode-notebook-cell:/Users/wenlongzhang/Documents/ML/stock/test.ipynb#W4sZmlsZQ%3D%3D?line=1'>2</a>\u001b[0m history \u001b[39m=\u001b[39m model\u001b[39m.\u001b[39;49mfit(X_train, Y_train, epochs\u001b[39m=\u001b[39;49m\u001b[39m100\u001b[39;49m, validation_data\u001b[39m=\u001b[39;49m(X_cv, Y_cv))\n\u001b[1;32m      <a href='vscode-notebook-cell:/Users/wenlongzhang/Documents/ML/stock/test.ipynb#W4sZmlsZQ%3D%3D?line=3'>4</a>\u001b[0m \u001b[39m# Evaluate the model on training data\u001b[39;00m\n\u001b[1;32m      <a href='vscode-notebook-cell:/Users/wenlongzhang/Documents/ML/stock/test.ipynb#W4sZmlsZQ%3D%3D?line=4'>5</a>\u001b[0m train_pred \u001b[39m=\u001b[39m model\u001b[39m.\u001b[39mpredict(X_train)\u001b[39m.\u001b[39mround()\n",
      "File \u001b[0;32m~/.pyenv/versions/3.11.3/lib/python3.11/site-packages/sklearn/base.py:1351\u001b[0m, in \u001b[0;36m_fit_context.<locals>.decorator.<locals>.wrapper\u001b[0;34m(estimator, *args, **kwargs)\u001b[0m\n\u001b[1;32m   1344\u001b[0m     estimator\u001b[39m.\u001b[39m_validate_params()\n\u001b[1;32m   1346\u001b[0m \u001b[39mwith\u001b[39;00m config_context(\n\u001b[1;32m   1347\u001b[0m     skip_parameter_validation\u001b[39m=\u001b[39m(\n\u001b[1;32m   1348\u001b[0m         prefer_skip_nested_validation \u001b[39mor\u001b[39;00m global_skip_validation\n\u001b[1;32m   1349\u001b[0m     )\n\u001b[1;32m   1350\u001b[0m ):\n\u001b[0;32m-> 1351\u001b[0m     \u001b[39mreturn\u001b[39;00m fit_method(estimator, \u001b[39m*\u001b[39;49margs, \u001b[39m*\u001b[39;49m\u001b[39m*\u001b[39;49mkwargs)\n",
      "\u001b[0;31mTypeError\u001b[0m: LogisticRegression.fit() got an unexpected keyword argument 'epochs'"
     ]
    }
   ],
   "source": [
    "# Train the model\n",
    "history = model.fit(X_train, Y_train, epochs=100, validation_data=(X_cv, Y_cv))\n",
    "\n",
    "# Evaluate the model on training data\n",
    "train_pred = model.predict(X_train).round()\n",
    "train_f1 = f1_score(Y_train, train_pred)\n",
    "train_auc = roc_auc_score(Y_train, train_pred)\n",
    "\n",
    "# Evaluate the model on test data\n",
    "test_pred = model.predict(X_test).round()\n",
    "test_f1 = f1_score(Y_test, test_pred)\n",
    "test_auc = roc_auc_score(Y_test, test_pred)\n",
    "\n",
    "# Summary\n",
    "print(\"\\nModel Performance Summary:\")\n",
    "print(\"Training: \")\n",
    "print(f\"  - Accuracy: {history.history['accuracy'][-1]:.4f}\")\n",
    "print(f\"  - AUC: {history.history['auc'][-1]:.4f}\")\n",
    "print(f\"  - F1 Score: {train_f1:.4f}\")\n",
    "print(f\"  - ROC-AUC: {train_auc:.4f}\")\n",
    "print(\"Testing: \")\n",
    "print(f\"  - Accuracy: {history.history['val_accuracy'][-1]:.4f}\")\n",
    "print(f\"  - AUC: {history.history['val_auc'][-1]:.4f}\")\n",
    "print(f\"  - F1 Score: {test_f1:.4f}\")\n",
    "print(f\"  - ROC-AUC: {test_auc:.4f}\")"
   ]
  },
  {
   "cell_type": "code",
   "execution_count": 6,
   "metadata": {},
   "outputs": [
    {
     "name": "stdout",
     "output_type": "stream",
     "text": [
      "2.15.0\n"
     ]
    }
   ],
   "source": [
    "import tensorflow as tf\n",
    "from sklearn.model_selection import train_test_split\n",
    "from sklearn.preprocessing import StandardScaler\n",
    "from sklearn.metrics import f1_score, roc_auc_score\n",
    "\n",
    "import pandas as pd\n",
    "import numpy as np\n",
    "\n",
    "# Assuming you already have your dataset loaded and preprocessed\n",
    "# X, Y = your data loading and preprocessing steps\n",
    "\n",
    "# Split the data\n",
    "X_train, X_test, Y_train, Y_test = train_test_split(X, Y, test_size=0.2, random_state=42)\n",
    "\n",
    "# Normalize the data\n",
    "# scaler = StandardScaler()\n",
    "# # Fit and transform the training data\n",
    "# X_train_normalized = scaler.fit_transform(X_train)\n",
    "# print(X_train)\n",
    "# print(X_test)\n",
    "# print(X_train_normalized)\n",
    "print(tf.__version__)\n",
    "\n"
   ]
  },
  {
   "cell_type": "code",
   "execution_count": null,
   "metadata": {},
   "outputs": [],
   "source": []
  }
 ],
 "metadata": {
  "kernelspec": {
   "display_name": "Python 3",
   "language": "python",
   "name": "python3"
  },
  "language_info": {
   "codemirror_mode": {
    "name": "ipython",
    "version": 3
   },
   "file_extension": ".py",
   "mimetype": "text/x-python",
   "name": "python",
   "nbconvert_exporter": "python",
   "pygments_lexer": "ipython3",
   "version": "3.11.3"
  }
 },
 "nbformat": 4,
 "nbformat_minor": 2
}
