{
 "cells": [
  {
   "cell_type": "code",
   "execution_count": 18,
   "metadata": {},
   "outputs": [
    {
     "name": "stdout",
     "output_type": "stream",
     "text": [
      "Date\n",
      "2019-01-28 00:00:00-05:00         NaN\n",
      "2019-02-04 00:00:00-05:00         NaN\n",
      "2019-02-11 00:00:00-05:00         NaN\n",
      "2019-02-18 00:00:00-05:00         NaN\n",
      "2019-02-25 00:00:00-05:00         NaN\n",
      "                               ...   \n",
      "2024-01-01 00:00:00-05:00    0.998757\n",
      "2024-01-08 00:00:00-05:00    0.999027\n",
      "2024-01-15 00:00:00-05:00    1.000000\n",
      "2024-01-22 00:00:00-05:00    0.999813\n",
      "2024-01-29 00:00:00-05:00    0.999214\n",
      "Name: Normalized_30_MA, Length: 262, dtype: float64\n",
      "4\n",
      "[0.99902723 1.         0.99981302 0.99921378]\n",
      "Ticker: AAPL, MA Slope: 3.726810782218592e-05\n"
     ]
    }
   ],
   "source": [
    "import pandas as pd\n",
    "import yfinance as yf\n",
    "from scipy.stats import linregress\n",
    "import numpy as np\n",
    "import os\n",
    "\n",
    "def fetch_sp500_tickers():\n",
    "    \"\"\"Fetches the list of S&P 500 tickers.\"\"\"\n",
    "    url = 'https://en.wikipedia.org/wiki/List_of_S%26P_500_companies'\n",
    "    sp500_list = pd.read_html(url)[0]\n",
    "    return sp500_list['Symbol'].values.tolist()\n",
    "\n",
    "def fetch_and_save_weekly_stock_data(ticker, data_dir='stock_data'):\n",
    "    \"\"\"Fetches historical weekly stock data and saves it to a CSV file.\"\"\"\n",
    "    filepath = f\"{data_dir}/{ticker}_weekly.csv\"\n",
    "    if not os.path.exists(filepath):  # Fetch and save if file doesn't exist\n",
    "        stock = yf.Ticker(ticker)\n",
    "        data = stock.history(period=\"5y\", interval=\"1wk\")\n",
    "        if not os.path.exists(data_dir):\n",
    "            os.makedirs(data_dir)\n",
    "        data.to_csv(filepath)\n",
    "    data = pd.read_csv(filepath, index_col='Date', parse_dates=True)\n",
    "    return data\n",
    "\n",
    "def calculate_and_save_normalized_ma(ticker, window=30, ma_dir='ma_data'):\n",
    "    ma_filepath = os.path.join(ma_dir, f\"{ticker}_30wk_MA.csv\")\n",
    "\n",
    "    # Read stock data from csv or download from Internet\n",
    "    data = fetch_and_save_weekly_stock_data(ticker, data_dir='stock_data')\n",
    "\n",
    "    # Calculate 30-week MA\n",
    "    data['30_MA'] = data['Close'].rolling(window=window).mean()\n",
    "\n",
    "    # Normalize the 30-week MA\n",
    "    historical_high = data['30_MA'].max()\n",
    "    data['Normalized_30_MA'] = data['30_MA'] / historical_high\n",
    "\n",
    "    if not os.path.exists(ma_dir):\n",
    "        os.makedirs(ma_dir)\n",
    "\n",
    "    # Save both the 30-week MA and the Normalized 30-week MA to CSV\n",
    "    data[['30_MA', 'Normalized_30_MA']].to_csv(ma_filepath)\n",
    "\n",
    "    return data\n",
    "\n",
    "def calculate_slope(series, slope_window):\n",
    "    \"\"\"Calculates the slope of the MA series using linear regression for the last 30 values.\"\"\"\n",
    "    print(series)\n",
    "    print(slope_window)\n",
    "    y = series.dropna().values[-slope_window:]  # Use only the last 4 non-NA values\n",
    "    print(y)\n",
    "    x = np.arange(len(y))\n",
    "    slope, intercept, _, _, _ = linregress(x, y)\n",
    "    return slope\n",
    "\n",
    "def calculate_normalized_slop(ticker, slope_window=4):\n",
    "    \"\"\"Fetch the normalized ma data and find the slope.\"\"\"\n",
    "    data = calculate_and_save_normalized_ma(ticker)\n",
    "    # print(data)\n",
    "\n",
    "    # Calculate the slope of the MA\n",
    "    slope = calculate_slope(data['Normalized_30_MA'],slope_window)\n",
    "\n",
    "    return slope\n",
    "\n",
    "def process_stocks(tickers):\n",
    "    \"\"\"Processes stocks to fetch data, calculate MA, save both, and determine slopes for ranking.\"\"\"\n",
    "    stock_slopes = []\n",
    "    for ticker in tickers:\n",
    "        slope = calculate_normalized_slop(ticker)\n",
    "        stock_slopes.append((ticker, slope))\n",
    "    # Sort and select top 10 stocks based on the absolute value of their slope\n",
    "    top_stocks_by_slope = sorted(stock_slopes, key=lambda x: abs(x[1]), reverse=True)[:10]\n",
    "    return top_stocks_by_slope\n",
    "\n",
    "# Execution\n",
    "sp500_tickers = fetch_sp500_tickers()\n",
    "top_stocks_by_slope = process_stocks([\"AAPL\"])\n",
    "\n",
    "# Output the top 10 stocks with the steepest MA slopes\n",
    "for stock, slope in top_stocks_by_slope:\n",
    "    print(f\"Ticker: {stock}, MA Slope: {slope}\")\n"
   ]
  },
  {
   "cell_type": "code",
   "execution_count": 3,
   "metadata": {},
   "outputs": [
    {
     "name": "stdout",
     "output_type": "stream",
     "text": [
      "257\n"
     ]
    }
   ],
   "source": [
    "print(len(stage_2_stocks))"
   ]
  },
  {
   "cell_type": "code",
   "execution_count": null,
   "metadata": {},
   "outputs": [],
   "source": []
  }
 ],
 "metadata": {
  "kernelspec": {
   "display_name": "tf-env",
   "language": "python",
   "name": "python3"
  },
  "language_info": {
   "codemirror_mode": {
    "name": "ipython",
    "version": 3
   },
   "file_extension": ".py",
   "mimetype": "text/x-python",
   "name": "python",
   "nbconvert_exporter": "python",
   "pygments_lexer": "ipython3",
   "version": "3.11.3"
  }
 },
 "nbformat": 4,
 "nbformat_minor": 2
}
